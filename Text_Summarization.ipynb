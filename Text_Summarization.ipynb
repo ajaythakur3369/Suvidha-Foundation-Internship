{
  "nbformat": 4,
  "nbformat_minor": 0,
  "metadata": {
    "colab": {
      "provenance": [],
      "include_colab_link": true
    },
    "kernelspec": {
      "name": "python3",
      "display_name": "Python 3"
    },
    "language_info": {
      "name": "python"
    }
  },
  "cells": [
    {
      "cell_type": "markdown",
      "metadata": {
        "id": "view-in-github",
        "colab_type": "text"
      },
      "source": [
        "<a href=\"https://colab.research.google.com/github/ajaythakur3369/Suvidha-Foundation-Internship/blob/main/Text_Summarization.ipynb\" target=\"_parent\"><img src=\"https://colab.research.google.com/assets/colab-badge.svg\" alt=\"Open In Colab\"/></a>"
      ]
    },
    {
      "cell_type": "markdown",
      "source": [
        "# **Project Name - Text Summarization**\n",
        "## **Developed By - Ajay Thakur (ajaythakur3369@gmail.com)**\n",
        "## **Branch Name - Electronics and Communication Engineering**\n",
        "## **Institute Name - Indian Institute of Information Technology Kota**\n",
        "## **Submitted To - Suvidha Foundation (Suvidha Mahila Mandal)**\n",
        "## **Project Link (GitHub) - [Click here](https://github.com/ajaythakur3369/Suvidha-Foundation-Internship)**"
      ],
      "metadata": {
        "id": "DkS8wHjj3W7L"
      }
    },
    {
      "cell_type": "markdown",
      "source": [
        "# **Let's Begin !**"
      ],
      "metadata": {
        "id": "JiQNQc124KIA"
      }
    },
    {
      "cell_type": "markdown",
      "source": [
        "### **Import Libraries**"
      ],
      "metadata": {
        "id": "9LqnPJIV4LCs"
      }
    },
    {
      "cell_type": "code",
      "execution_count": null,
      "metadata": {
        "id": "PBiO8o-2DyQl"
      },
      "outputs": [],
      "source": [
        "# Imported all necessary libraries\n",
        "import pandas as pd\n",
        "import numpy as np\n",
        "import re\n",
        "import nltk\n",
        "from nltk.corpus import stopwords\n",
        "import os\n",
        "import string\n",
        "from pickle import dump, load"
      ]
    },
    {
      "cell_type": "markdown",
      "source": [
        "### **Loading the Data**"
      ],
      "metadata": {
        "id": "noJYLRrPED32"
      }
    },
    {
      "cell_type": "code",
      "source": [
        "class LoadData:\n",
        "    def __init__(self, directory):\n",
        "        self.directory = directory\n",
        "\n",
        "    def load_story(self, filename):\n",
        "        # load document\n",
        "        with open(filename, 'r') as file:\n",
        "            text = file.read()\n",
        "        # split into story and highlights\n",
        "        if '@highlight' in text:\n",
        "            story, highlights = text.split('@highlight', 1)\n",
        "            highlights = [h.strip() for h in highlights.split('\\n') if len(h) > 0]\n",
        "        else:\n",
        "            story = text\n",
        "            highlights = []\n",
        "        return story, highlights\n",
        "\n",
        "    def load_stories(self):\n",
        "        stories = []\n",
        "        list_of_files = os.listdir(self.directory)\n",
        "        for name in list_of_files[:8]:\n",
        "            filename = os.path.join(self.directory, name)\n",
        "            story, highlights = self.load_story(filename)\n",
        "            stories.append((story, highlights))\n",
        "        return stories"
      ],
      "metadata": {
        "id": "mzSbzvjuEFMG"
      },
      "execution_count": null,
      "outputs": []
    },
    {
      "cell_type": "code",
      "source": [
        "# Access the drive from Colab to access all the required files\n",
        "from google.colab import drive\n",
        "drive.mount('/content/drive')"
      ],
      "metadata": {
        "colab": {
          "base_uri": "https://localhost:8080/"
        },
        "id": "P-p6iASKM3Eb",
        "outputId": "9e8e67d3-e534-4b77-8325-6d10dd4328f7"
      },
      "execution_count": null,
      "outputs": [
        {
          "output_type": "stream",
          "name": "stdout",
          "text": [
            "Mounted at /content/drive\n"
          ]
        }
      ]
    },
    {
      "cell_type": "code",
      "source": [
        "# Path for accessing all the required files from Drive\n",
        "DIR_PATH = \"/content/drive/MyDrive/Colab_Notebook/Internship_Name/Suvidha_Foundation/Folder_Name/CNN_stories_dataset\""
      ],
      "metadata": {
        "id": "x5-gUMcneDZG"
      },
      "execution_count": null,
      "outputs": []
    },
    {
      "cell_type": "code",
      "source": [
        "obj = LoadData(DIR_PATH)\n",
        "stories = obj.load_stories()"
      ],
      "metadata": {
        "id": "vtc9pONrEONA"
      },
      "execution_count": null,
      "outputs": []
    },
    {
      "cell_type": "code",
      "source": [
        "# Accessing the highlights of the 8th story (index 7)\n",
        "print(stories[7][1])\n",
        "print()\n",
        "\n",
        "# Accessing the story of the 8th story (index 7)\n",
        "print(stories[7][0])"
      ],
      "metadata": {
        "id": "x-2M9pnpEQts",
        "colab": {
          "base_uri": "https://localhost:8080/"
        },
        "outputId": "54c361b6-127f-4489-fb0d-38e698766a6c"
      },
      "execution_count": null,
      "outputs": [
        {
          "output_type": "stream",
          "name": "stdout",
          "text": [
            "['Pamela Anderson becomes joint owner of a racing team', '@highlight', 'Former Baywatch star is fronting the Race Alliance FIA GT Series team', '@highlight', 'Vitantonio Liuzzi and Mathias Lauda drive for the team', '@highlight', 'Nine-time rally world champion Sebastian Loeb runs a competing team']\n",
            "\n",
            "-LRB- CNN -RRB- -- Pamela Anderson is set to bring a little Hollywood glamor to motorsport after becoming part owner of a sports car racing team .\n",
            "\n",
            "The former Baywatch star has linked up with the Race Alliance team , which is competing in the inaugural FIA GT Series .\n",
            "\n",
            "The Playboy pin-up ventured into motorsport in March 2012 when her and occasional racing driver Markus Fux fronted the Downforce1 European Le Mans teams .\n",
            "\n",
            "Following the failure of that venture Fux and Anderson have teamed up with the Race Alliance team for the final three races of the GT Series ' 2013 season .\n",
            "\n",
            "`` We want to make Race Alliance a recognizable name and have looked for the best drivers possible , '' a spokesman for the team told Autosport.com .\n",
            "\n",
            "`` The plan is to contest the full FIA GT Series next year , as well as the Nurburgring 24 Hours , and then look to NASCAR after that . ''\n",
            "\n",
            "In Vitantonio Liuzzi and Mathias Lauda the Austrian team boasts two drivers of considerable pedigree .\n",
            "\n",
            "F1 Inforgraphic : Deals on wheels\n",
            "\n",
            "Liuzzi spent six years in Formula One , including one season with Red Bull , while his teammate Lauda is the son of Austria 's triple F1 world champion Niki Lauda .\n",
            "\n",
            "Liuzzi and Lauda will be behind the wheel of a Ferrari 458 Italia when the team debuts in Slovakia this weekend .\n",
            "\n",
            "Three dates remain on the GT Series ' 2013 calendar , with Spain and Azerbaijan hosting races after Slovakia .\n",
            "\n",
            "Competing against Anderson 's team will be one led by rally driving legend Sebastian Loeb .\n",
            "\n",
            "The Frenchman won a record nine World Rally Championships in a row between 2004 and 2012 and now heads the Sebastian Loeb Racing team .\n",
            "\n",
            "\n"
          ]
        }
      ]
    },
    {
      "cell_type": "code",
      "source": [
        "stories[:2]"
      ],
      "metadata": {
        "id": "wz2LsDhyEV8h",
        "colab": {
          "base_uri": "https://localhost:8080/"
        },
        "outputId": "bc93d22b-c714-49e9-97bf-c953e04bb92b"
      },
      "execution_count": null,
      "outputs": [
        {
          "output_type": "execute_result",
          "data": {
            "text/plain": [
              "[(\"-LRB- CNN -RRB- -- As investigators are determining whether a skull and bones discovered behind an abandoned Central Virginia home on Saturday are those of Hannah Graham , the lone suspect in her disappearance has been indicted in an assault from almost a decade ago -- a case that police say forensically links him to another female college student who vanished from the same area as Graham .\\n\\nJesse Matthew was indicted by a grand jury in Fairfax , Virginia on Monday for the 2005 sexual assault on charges that also included attempted murder and abduction .\\n\\nAccording to the indictment , Matthew , 32 , `` did feloniously , willfully , deliberately , intentionally and with premeditation attempt to kill -LRB- the victim -RRB- in the commission of or subsequent to an abduction with the intent to defile . ''\\n\\nThe then-26-year-old victim in that attack was able to provide enough of a detailed description to yield a police sketch , one that years later would link Matthew to the case of Morgan Harrington , the Virginia Tech student who vanished in Charlottesville in October 2009 .\\n\\nHarrington was found dead the following January . Police at the time said `` forensic evidence '' linked the two cases .\\n\\nFairfax County prosecutor Ray Morrogh said Monday that he could not comment on how this investigation and indictment relates to the Harrington or Graham cases , but said `` the facts and details will be revealed in the judicial process . ''\\n\\nJim Camblos , Matthew 's Charlottesville attorney in the Graham case , declined to comment when reached by CNN on Monday .\\n\\nGraham last seen September 13\\n\\nGraham , a University of Virginia student , was last spotted on several surveillance cameras in Charlottesville 's Downtown Mall area on September 13 . The footage showed her leaving the Tempo Bar around 2 a.m. , followed by a man investigators think to be Matthew .\\n\\nMore than a month later , on October 18 , Sgt. Dale Terry of the Chesterfield Sheriff 's Department and his small search team were finishing up for the day when behind an abandoned home -- just eight miles from where Hannah Graham was last seen -- they found a skull and bones scattered across a creek bed .\\n\\n`` It was not buried , and its location was not far from the road , '' he told a local television station . `` There was not any crushing of any bones . As far as the skull , everything looked to be intact to me . ''\\n\\nNearby was a pair of black pants , similar to ones Graham was wearing when she was last seen .\\n\\n`` I do believe God wanted us to find what we found , '' Terry said . `` I do n't know how else to explain it other than something inside me told me to just continue to look . ''\\n\\nAfter Saturday 's discovery , the weekend 's remaining public searches were canceled so that authorities could focus their attention `` on recent evidence , '' according to the Virginia Department of Emergency Management .\\n\\nFurthermore , police now consider the Graham case `` a death investigation , '' said County Police Chief Steve Sellers .\\n\\n`` Today 's discovery is a significant development , and we have a great deal of work ahead of us , '' Sellers said . `` We can not and we will not jump to any conclusions . ''\\n\\nForensic psychologist Mike Banks told CNN affiliate WTVR that forensic work could take some time .\\n\\n`` If it is Hannah Graham , 100 % , then at least they have their child home , '' he said , referring to Graham 's parents , John and Susan Graham .\\n\\nThe Albemarle County Police Department said it did n't know how long it will take for the forensic results to come back .\\n\\n\",\n",
              "  ['Jesse Matthew indicted in 2005 Virginia sexual assault',\n",
              "   '@highlight',\n",
              "   'Charges also include abduction , attempted murder',\n",
              "   '@highlight',\n",
              "   'University of Virginia student Hannah Graham missing since September 13',\n",
              "   '@highlight',\n",
              "   'Human remains were found over the weekend near where she was last seen']),\n",
              " (\"Los Angeles -LRB- CNN -RRB- -- The illness that derailed Miley Cyrus ' U.S. tour in April has returned like a wrecking ball at the start of her European tour .\\n\\nCyrus ' Friday and Saturday shows in Amsterdam and Antwerp have been rescheduled for June 20 and 22 because she suffered a setback in her battle against a `` severe allergic reaction '' to an antibiotic , her rep said .\\n\\nThe 21-year-old singer fell ill on April 15 and was kept in a Kansas City hospital for several days . The remaining North American shows in her `` Bangerz '' tour were postponed until August .\\n\\n`` After a period of improvement , Cyrus ' symptoms have returned and doctors will not permit her to travel , '' her representative told CNN Wednesday . `` This type of extreme reaction can last up to 27 days and Cyrus must remain under doctors ' care at this time . ''\\n\\nCyrus is still hoping to perform her `` Bangerz '' show at London 's O2 Arena on May 6 , the rep said .\\n\\nShe initially became ill in early April with a flu-like illness , which caused her to pull out of her Charlotte show . After being prescribed the antibiotic Cephalexin , her health woes grew when an allergic reaction to the drug left Cyrus hospitalized for more than a week , according to a statement from her representative earlier this month .\\n\\nCyrus used Twitter to express her sadness , posting a tweet of 132 crying emoticons Tuesday .\\n\\nCNN 's Breeanna Hare and Carolyn Sung contributed to this report .\\n\\n\",\n",
              "  [\"Miley 's weekend shows in Amsterdam and Antwerp are rescheduled in June\",\n",
              "   '@highlight',\n",
              "   \"`` After a period of improvement , Cyrus ' symptoms have returned , '' rep says\",\n",
              "   '@highlight',\n",
              "   \"Cyrus still hopes to perform her `` Bangerz '' show at London 's O2 Arena May 6\",\n",
              "   '@highlight',\n",
              "   'Postponed North American shows are set for first two weeks in August'])]"
            ]
          },
          "metadata": {},
          "execution_count": 7
        }
      ]
    },
    {
      "cell_type": "markdown",
      "source": [
        "### **Data Cleaning**"
      ],
      "metadata": {
        "id": "zsdElC3zEYkW"
      }
    },
    {
      "cell_type": "code",
      "source": [
        "class Clean_data:\n",
        "    def __init__(self):\n",
        "        pass\n",
        "\n",
        "    def clean_lines(self, lines):\n",
        "        cleaned = list()\n",
        "        table = str.maketrans('', '', string.punctuation)\n",
        "\n",
        "        for line in lines:\n",
        "            index = line.find('(CNN)')\n",
        "            if index >= 0:\n",
        "                line = line[index + len('(CNN)'):]\n",
        "\n",
        "            split_line = line.split()\n",
        "\n",
        "            split_line = [word.lower() for word in split_line]\n",
        "            split_line = [w.translate(table) for w in split_line]\n",
        "\n",
        "            split_line = [word for word in split_line if word.isalpha()]\n",
        "            cleaned.append(' '.join(split_line))\n",
        "        cleaned = [c for c in cleaned if len(c) > 0]\n",
        "        return cleaned"
      ],
      "metadata": {
        "id": "VWpf4WduEc6j"
      },
      "execution_count": null,
      "outputs": []
    },
    {
      "cell_type": "code",
      "source": [
        "obj1 = Clean_data()\n",
        "cleaned_stories = list()\n",
        "for example in stories[:100]:\n",
        "    cleaned_stories.append({\n",
        "        # Accessing the story (index 0)\n",
        "        'story': obj1.clean_lines(example[0].split('\\n')),\n",
        "        # Accessing the highlights (index 1)\n",
        "        'highlights': obj1.clean_lines(example[1])\n",
        "    })"
      ],
      "metadata": {
        "id": "U8idAEx3Ehyb"
      },
      "execution_count": null,
      "outputs": []
    },
    {
      "cell_type": "code",
      "source": [
        "cleaned_stories[7]"
      ],
      "metadata": {
        "id": "H2Kt9uTBEj4d",
        "colab": {
          "base_uri": "https://localhost:8080/"
        },
        "outputId": "c9d32bb3-104a-4a21-8e0a-a440ffb17a03"
      },
      "execution_count": null,
      "outputs": [
        {
          "output_type": "execute_result",
          "data": {
            "text/plain": [
              "{'story': ['lrb cnn rrb pamela anderson is set to bring a little hollywood glamor to motorsport after becoming part owner of a sports car racing team',\n",
              "  'the former baywatch star has linked up with the race alliance team which is competing in the inaugural fia gt series',\n",
              "  'the playboy pinup ventured into motorsport in march when her and occasional racing driver markus fux fronted the european le mans teams',\n",
              "  'following the failure of that venture fux and anderson have teamed up with the race alliance team for the final three races of the gt series season',\n",
              "  'we want to make race alliance a recognizable name and have looked for the best drivers possible a spokesman for the team told autosportcom',\n",
              "  'the plan is to contest the full fia gt series next year as well as the nurburgring hours and then look to nascar after that',\n",
              "  'in vitantonio liuzzi and mathias lauda the austrian team boasts two drivers of considerable pedigree',\n",
              "  'inforgraphic deals on wheels',\n",
              "  'liuzzi spent six years in formula one including one season with red bull while his teammate lauda is the son of austria s triple world champion niki lauda',\n",
              "  'liuzzi and lauda will be behind the wheel of a ferrari italia when the team debuts in slovakia this weekend',\n",
              "  'three dates remain on the gt series calendar with spain and azerbaijan hosting races after slovakia',\n",
              "  'competing against anderson s team will be one led by rally driving legend sebastian loeb',\n",
              "  'the frenchman won a record nine world rally championships in a row between and and now heads the sebastian loeb racing team'],\n",
              " 'highlights': ['pamela anderson becomes joint owner of a racing team',\n",
              "  'highlight',\n",
              "  'former baywatch star is fronting the race alliance fia gt series team',\n",
              "  'highlight',\n",
              "  'vitantonio liuzzi and mathias lauda drive for the team',\n",
              "  'highlight',\n",
              "  'ninetime rally world champion sebastian loeb runs a competing team']}"
            ]
          },
          "metadata": {},
          "execution_count": 10
        }
      ]
    },
    {
      "cell_type": "code",
      "source": [
        "dump(cleaned_stories, open('/content/drive/MyDrive/Colab_Notebook/Internship_Name/Suvidha_Foundation/Folder_Name/CNN_stories_dataset/cnn_dataset.pkl', 'wb'))"
      ],
      "metadata": {
        "id": "55LTvw7FEoA6"
      },
      "execution_count": null,
      "outputs": []
    },
    {
      "cell_type": "code",
      "source": [
        "cleaned_stories = load(open('/content/drive/MyDrive/Colab_Notebook/Internship_Name/Suvidha_Foundation/Folder_Name/CNN_stories_dataset/cnn_dataset.pkl', 'rb'))\n",
        "print('Loaded Stories %d' % len(cleaned_stories))"
      ],
      "metadata": {
        "id": "6d5J2xxKEo1x",
        "colab": {
          "base_uri": "https://localhost:8080/"
        },
        "outputId": "b4b03894-d1a0-4b3a-ff93-26a8266d0e8f"
      },
      "execution_count": null,
      "outputs": [
        {
          "output_type": "stream",
          "name": "stdout",
          "text": [
            "Loaded Stories 8\n"
          ]
        }
      ]
    },
    {
      "cell_type": "markdown",
      "source": [
        "### **Amazon Food Reviews Dataset**"
      ],
      "metadata": {
        "id": "aJjcZl_lEsMS"
      }
    },
    {
      "cell_type": "code",
      "source": [
        "AMAZON_DATA_PATH = '/content/drive/MyDrive/Colab_Notebook/Internship_Name/Suvidha_Foundation/File_Name/Food_review_dataset.csv'"
      ],
      "metadata": {
        "id": "rpxczfc7E1px"
      },
      "execution_count": null,
      "outputs": []
    },
    {
      "cell_type": "code",
      "source": [
        "class Load_amazon_data:\n",
        "    def __init__(self, dir_path, seed = 0):\n",
        "        self.dir_path = dir_path\n",
        "        np.random.seed(seed)\n",
        "\n",
        "    def load(self):\n",
        "        \"\"\"\n",
        "        Reads data from the given directory path\n",
        "        \"\"\"\n",
        "        return pd.read_csv(self.dir_path)\n",
        "\n",
        "    def drop(self):\n",
        "        \"\"\"\n",
        "        Drops unnecessary columns\n",
        "        \"\"\"\n",
        "\n",
        "        data= self.load()\n",
        "\n",
        "        data = data.dropna()\n",
        "        data= data.iloc[:, -2:]\n",
        "        data = data.reset_index(drop = True)\n",
        "\n",
        "        return data\n",
        "\n",
        "    def analyze_data(self):\n",
        "        \"\"\"\n",
        "        Prints some sample data points from the cleaned data\n",
        "        \"\"\"\n",
        "        data= self.drop()\n",
        "\n",
        "        for sr_no, i in enumerate(np.random.randint(10, 100, size= 5)):\n",
        "            print(\"_________________________\")\n",
        "            print(\"Data Point {0}\".format(sr_no + 1))\n",
        "            print(\"Summary:\")\n",
        "            print(data['Summary'].iloc[i])\n",
        "            print(\"Full Text:\")\n",
        "            print(data['Text'].iloc[i])"
      ],
      "metadata": {
        "id": "3OgrtKUUE2Rg"
      },
      "execution_count": null,
      "outputs": []
    },
    {
      "cell_type": "code",
      "source": [
        "obj = Load_amazon_data(AMAZON_DATA_PATH, seed = 1)"
      ],
      "metadata": {
        "id": "hR522SOOE75U"
      },
      "execution_count": null,
      "outputs": []
    },
    {
      "cell_type": "markdown",
      "source": [
        "### **Load the Data**"
      ],
      "metadata": {
        "id": "VPCmuQO6E_AZ"
      }
    },
    {
      "cell_type": "code",
      "source": [
        "data = obj.load()\n",
        "data.head()"
      ],
      "metadata": {
        "id": "f2_FnH-5FD-k",
        "colab": {
          "base_uri": "https://localhost:8080/",
          "height": 293
        },
        "outputId": "bd5ad719-0d4b-48db-d63b-0df88666d3a3"
      },
      "execution_count": null,
      "outputs": [
        {
          "output_type": "execute_result",
          "data": {
            "text/plain": [
              "   Id   ProductId          UserId                      ProfileName  \\\n",
              "0   1  B001E4KFG0  A3SGXH7AUHU8GW                       delmartian   \n",
              "1   2  B00813GRG4  A1D87F6ZCVE5NK                           dll pa   \n",
              "2   3  B000LQOCH0   ABXLMWJIXXAIN  Natalia Corres \"Natalia Corres\"   \n",
              "3   4  B000UA0QIQ  A395BORC6FGVXV                             Karl   \n",
              "4   5  B006K2ZZ7K  A1UQRSCLF8GW1T    Michael D. Bigham \"M. Wassir\"   \n",
              "\n",
              "   HelpfulnessNumerator  HelpfulnessDenominator  Score        Time  \\\n",
              "0                     1                       1      5  1303862400   \n",
              "1                     0                       0      1  1346976000   \n",
              "2                     1                       1      4  1219017600   \n",
              "3                     3                       3      2  1307923200   \n",
              "4                     0                       0      5  1350777600   \n",
              "\n",
              "                 Summary                                               Text  \n",
              "0  Good Quality Dog Food  I have bought several of the Vitality canned d...  \n",
              "1      Not as Advertised  Product arrived labeled as Jumbo Salted Peanut...  \n",
              "2  \"Delight\" says it all  This is a confection that has been around a fe...  \n",
              "3         Cough Medicine  If you are looking for the secret ingredient i...  \n",
              "4            Great taffy  Great taffy at a great price.  There was a wid...  "
            ],
            "text/html": [
              "\n",
              "  <div id=\"df-78b6fd4a-6977-4698-abab-c81c3d724b27\" class=\"colab-df-container\">\n",
              "    <div>\n",
              "<style scoped>\n",
              "    .dataframe tbody tr th:only-of-type {\n",
              "        vertical-align: middle;\n",
              "    }\n",
              "\n",
              "    .dataframe tbody tr th {\n",
              "        vertical-align: top;\n",
              "    }\n",
              "\n",
              "    .dataframe thead th {\n",
              "        text-align: right;\n",
              "    }\n",
              "</style>\n",
              "<table border=\"1\" class=\"dataframe\">\n",
              "  <thead>\n",
              "    <tr style=\"text-align: right;\">\n",
              "      <th></th>\n",
              "      <th>Id</th>\n",
              "      <th>ProductId</th>\n",
              "      <th>UserId</th>\n",
              "      <th>ProfileName</th>\n",
              "      <th>HelpfulnessNumerator</th>\n",
              "      <th>HelpfulnessDenominator</th>\n",
              "      <th>Score</th>\n",
              "      <th>Time</th>\n",
              "      <th>Summary</th>\n",
              "      <th>Text</th>\n",
              "    </tr>\n",
              "  </thead>\n",
              "  <tbody>\n",
              "    <tr>\n",
              "      <th>0</th>\n",
              "      <td>1</td>\n",
              "      <td>B001E4KFG0</td>\n",
              "      <td>A3SGXH7AUHU8GW</td>\n",
              "      <td>delmartian</td>\n",
              "      <td>1</td>\n",
              "      <td>1</td>\n",
              "      <td>5</td>\n",
              "      <td>1303862400</td>\n",
              "      <td>Good Quality Dog Food</td>\n",
              "      <td>I have bought several of the Vitality canned d...</td>\n",
              "    </tr>\n",
              "    <tr>\n",
              "      <th>1</th>\n",
              "      <td>2</td>\n",
              "      <td>B00813GRG4</td>\n",
              "      <td>A1D87F6ZCVE5NK</td>\n",
              "      <td>dll pa</td>\n",
              "      <td>0</td>\n",
              "      <td>0</td>\n",
              "      <td>1</td>\n",
              "      <td>1346976000</td>\n",
              "      <td>Not as Advertised</td>\n",
              "      <td>Product arrived labeled as Jumbo Salted Peanut...</td>\n",
              "    </tr>\n",
              "    <tr>\n",
              "      <th>2</th>\n",
              "      <td>3</td>\n",
              "      <td>B000LQOCH0</td>\n",
              "      <td>ABXLMWJIXXAIN</td>\n",
              "      <td>Natalia Corres \"Natalia Corres\"</td>\n",
              "      <td>1</td>\n",
              "      <td>1</td>\n",
              "      <td>4</td>\n",
              "      <td>1219017600</td>\n",
              "      <td>\"Delight\" says it all</td>\n",
              "      <td>This is a confection that has been around a fe...</td>\n",
              "    </tr>\n",
              "    <tr>\n",
              "      <th>3</th>\n",
              "      <td>4</td>\n",
              "      <td>B000UA0QIQ</td>\n",
              "      <td>A395BORC6FGVXV</td>\n",
              "      <td>Karl</td>\n",
              "      <td>3</td>\n",
              "      <td>3</td>\n",
              "      <td>2</td>\n",
              "      <td>1307923200</td>\n",
              "      <td>Cough Medicine</td>\n",
              "      <td>If you are looking for the secret ingredient i...</td>\n",
              "    </tr>\n",
              "    <tr>\n",
              "      <th>4</th>\n",
              "      <td>5</td>\n",
              "      <td>B006K2ZZ7K</td>\n",
              "      <td>A1UQRSCLF8GW1T</td>\n",
              "      <td>Michael D. Bigham \"M. Wassir\"</td>\n",
              "      <td>0</td>\n",
              "      <td>0</td>\n",
              "      <td>5</td>\n",
              "      <td>1350777600</td>\n",
              "      <td>Great taffy</td>\n",
              "      <td>Great taffy at a great price.  There was a wid...</td>\n",
              "    </tr>\n",
              "  </tbody>\n",
              "</table>\n",
              "</div>\n",
              "    <div class=\"colab-df-buttons\">\n",
              "\n",
              "  <div class=\"colab-df-container\">\n",
              "    <button class=\"colab-df-convert\" onclick=\"convertToInteractive('df-78b6fd4a-6977-4698-abab-c81c3d724b27')\"\n",
              "            title=\"Convert this dataframe to an interactive table.\"\n",
              "            style=\"display:none;\">\n",
              "\n",
              "  <svg xmlns=\"http://www.w3.org/2000/svg\" height=\"24px\" viewBox=\"0 -960 960 960\">\n",
              "    <path d=\"M120-120v-720h720v720H120Zm60-500h600v-160H180v160Zm220 220h160v-160H400v160Zm0 220h160v-160H400v160ZM180-400h160v-160H180v160Zm440 0h160v-160H620v160ZM180-180h160v-160H180v160Zm440 0h160v-160H620v160Z\"/>\n",
              "  </svg>\n",
              "    </button>\n",
              "\n",
              "  <style>\n",
              "    .colab-df-container {\n",
              "      display:flex;\n",
              "      gap: 12px;\n",
              "    }\n",
              "\n",
              "    .colab-df-convert {\n",
              "      background-color: #E8F0FE;\n",
              "      border: none;\n",
              "      border-radius: 50%;\n",
              "      cursor: pointer;\n",
              "      display: none;\n",
              "      fill: #1967D2;\n",
              "      height: 32px;\n",
              "      padding: 0 0 0 0;\n",
              "      width: 32px;\n",
              "    }\n",
              "\n",
              "    .colab-df-convert:hover {\n",
              "      background-color: #E2EBFA;\n",
              "      box-shadow: 0px 1px 2px rgba(60, 64, 67, 0.3), 0px 1px 3px 1px rgba(60, 64, 67, 0.15);\n",
              "      fill: #174EA6;\n",
              "    }\n",
              "\n",
              "    .colab-df-buttons div {\n",
              "      margin-bottom: 4px;\n",
              "    }\n",
              "\n",
              "    [theme=dark] .colab-df-convert {\n",
              "      background-color: #3B4455;\n",
              "      fill: #D2E3FC;\n",
              "    }\n",
              "\n",
              "    [theme=dark] .colab-df-convert:hover {\n",
              "      background-color: #434B5C;\n",
              "      box-shadow: 0px 1px 3px 1px rgba(0, 0, 0, 0.15);\n",
              "      filter: drop-shadow(0px 1px 2px rgba(0, 0, 0, 0.3));\n",
              "      fill: #FFFFFF;\n",
              "    }\n",
              "  </style>\n",
              "\n",
              "    <script>\n",
              "      const buttonEl =\n",
              "        document.querySelector('#df-78b6fd4a-6977-4698-abab-c81c3d724b27 button.colab-df-convert');\n",
              "      buttonEl.style.display =\n",
              "        google.colab.kernel.accessAllowed ? 'block' : 'none';\n",
              "\n",
              "      async function convertToInteractive(key) {\n",
              "        const element = document.querySelector('#df-78b6fd4a-6977-4698-abab-c81c3d724b27');\n",
              "        const dataTable =\n",
              "          await google.colab.kernel.invokeFunction('convertToInteractive',\n",
              "                                                    [key], {});\n",
              "        if (!dataTable) return;\n",
              "\n",
              "        const docLinkHtml = 'Like what you see? Visit the ' +\n",
              "          '<a target=\"_blank\" href=https://colab.research.google.com/notebooks/data_table.ipynb>data table notebook</a>'\n",
              "          + ' to learn more about interactive tables.';\n",
              "        element.innerHTML = '';\n",
              "        dataTable['output_type'] = 'display_data';\n",
              "        await google.colab.output.renderOutput(dataTable, element);\n",
              "        const docLink = document.createElement('div');\n",
              "        docLink.innerHTML = docLinkHtml;\n",
              "        element.appendChild(docLink);\n",
              "      }\n",
              "    </script>\n",
              "  </div>\n",
              "\n",
              "\n",
              "<div id=\"df-a81e6a6d-c154-41c2-b9b2-4defd94fdd55\">\n",
              "  <button class=\"colab-df-quickchart\" onclick=\"quickchart('df-a81e6a6d-c154-41c2-b9b2-4defd94fdd55')\"\n",
              "            title=\"Suggest charts\"\n",
              "            style=\"display:none;\">\n",
              "\n",
              "<svg xmlns=\"http://www.w3.org/2000/svg\" height=\"24px\"viewBox=\"0 0 24 24\"\n",
              "     width=\"24px\">\n",
              "    <g>\n",
              "        <path d=\"M19 3H5c-1.1 0-2 .9-2 2v14c0 1.1.9 2 2 2h14c1.1 0 2-.9 2-2V5c0-1.1-.9-2-2-2zM9 17H7v-7h2v7zm4 0h-2V7h2v10zm4 0h-2v-4h2v4z\"/>\n",
              "    </g>\n",
              "</svg>\n",
              "  </button>\n",
              "\n",
              "<style>\n",
              "  .colab-df-quickchart {\n",
              "      --bg-color: #E8F0FE;\n",
              "      --fill-color: #1967D2;\n",
              "      --hover-bg-color: #E2EBFA;\n",
              "      --hover-fill-color: #174EA6;\n",
              "      --disabled-fill-color: #AAA;\n",
              "      --disabled-bg-color: #DDD;\n",
              "  }\n",
              "\n",
              "  [theme=dark] .colab-df-quickchart {\n",
              "      --bg-color: #3B4455;\n",
              "      --fill-color: #D2E3FC;\n",
              "      --hover-bg-color: #434B5C;\n",
              "      --hover-fill-color: #FFFFFF;\n",
              "      --disabled-bg-color: #3B4455;\n",
              "      --disabled-fill-color: #666;\n",
              "  }\n",
              "\n",
              "  .colab-df-quickchart {\n",
              "    background-color: var(--bg-color);\n",
              "    border: none;\n",
              "    border-radius: 50%;\n",
              "    cursor: pointer;\n",
              "    display: none;\n",
              "    fill: var(--fill-color);\n",
              "    height: 32px;\n",
              "    padding: 0;\n",
              "    width: 32px;\n",
              "  }\n",
              "\n",
              "  .colab-df-quickchart:hover {\n",
              "    background-color: var(--hover-bg-color);\n",
              "    box-shadow: 0 1px 2px rgba(60, 64, 67, 0.3), 0 1px 3px 1px rgba(60, 64, 67, 0.15);\n",
              "    fill: var(--button-hover-fill-color);\n",
              "  }\n",
              "\n",
              "  .colab-df-quickchart-complete:disabled,\n",
              "  .colab-df-quickchart-complete:disabled:hover {\n",
              "    background-color: var(--disabled-bg-color);\n",
              "    fill: var(--disabled-fill-color);\n",
              "    box-shadow: none;\n",
              "  }\n",
              "\n",
              "  .colab-df-spinner {\n",
              "    border: 2px solid var(--fill-color);\n",
              "    border-color: transparent;\n",
              "    border-bottom-color: var(--fill-color);\n",
              "    animation:\n",
              "      spin 1s steps(1) infinite;\n",
              "  }\n",
              "\n",
              "  @keyframes spin {\n",
              "    0% {\n",
              "      border-color: transparent;\n",
              "      border-bottom-color: var(--fill-color);\n",
              "      border-left-color: var(--fill-color);\n",
              "    }\n",
              "    20% {\n",
              "      border-color: transparent;\n",
              "      border-left-color: var(--fill-color);\n",
              "      border-top-color: var(--fill-color);\n",
              "    }\n",
              "    30% {\n",
              "      border-color: transparent;\n",
              "      border-left-color: var(--fill-color);\n",
              "      border-top-color: var(--fill-color);\n",
              "      border-right-color: var(--fill-color);\n",
              "    }\n",
              "    40% {\n",
              "      border-color: transparent;\n",
              "      border-right-color: var(--fill-color);\n",
              "      border-top-color: var(--fill-color);\n",
              "    }\n",
              "    60% {\n",
              "      border-color: transparent;\n",
              "      border-right-color: var(--fill-color);\n",
              "    }\n",
              "    80% {\n",
              "      border-color: transparent;\n",
              "      border-right-color: var(--fill-color);\n",
              "      border-bottom-color: var(--fill-color);\n",
              "    }\n",
              "    90% {\n",
              "      border-color: transparent;\n",
              "      border-bottom-color: var(--fill-color);\n",
              "    }\n",
              "  }\n",
              "</style>\n",
              "\n",
              "  <script>\n",
              "    async function quickchart(key) {\n",
              "      const quickchartButtonEl =\n",
              "        document.querySelector('#' + key + ' button');\n",
              "      quickchartButtonEl.disabled = true;  // To prevent multiple clicks.\n",
              "      quickchartButtonEl.classList.add('colab-df-spinner');\n",
              "      try {\n",
              "        const charts = await google.colab.kernel.invokeFunction(\n",
              "            'suggestCharts', [key], {});\n",
              "      } catch (error) {\n",
              "        console.error('Error during call to suggestCharts:', error);\n",
              "      }\n",
              "      quickchartButtonEl.classList.remove('colab-df-spinner');\n",
              "      quickchartButtonEl.classList.add('colab-df-quickchart-complete');\n",
              "    }\n",
              "    (() => {\n",
              "      let quickchartButtonEl =\n",
              "        document.querySelector('#df-a81e6a6d-c154-41c2-b9b2-4defd94fdd55 button');\n",
              "      quickchartButtonEl.style.display =\n",
              "        google.colab.kernel.accessAllowed ? 'block' : 'none';\n",
              "    })();\n",
              "  </script>\n",
              "</div>\n",
              "\n",
              "    </div>\n",
              "  </div>\n"
            ],
            "application/vnd.google.colaboratory.intrinsic+json": {
              "type": "dataframe",
              "variable_name": "data"
            }
          },
          "metadata": {},
          "execution_count": 16
        }
      ]
    },
    {
      "cell_type": "markdown",
      "source": [
        "### **Removing Unnecessary Columns**"
      ],
      "metadata": {
        "id": "46LVwm9GNU0i"
      }
    },
    {
      "cell_type": "code",
      "source": [
        "data = obj.drop()\n",
        "data.head()"
      ],
      "metadata": {
        "id": "WsXrp41pNZc5",
        "colab": {
          "base_uri": "https://localhost:8080/",
          "height": 206
        },
        "outputId": "0b20988f-741d-458c-d90d-3e69b79030b3"
      },
      "execution_count": null,
      "outputs": [
        {
          "output_type": "execute_result",
          "data": {
            "text/plain": [
              "                 Summary                                               Text\n",
              "0  Good Quality Dog Food  I have bought several of the Vitality canned d...\n",
              "1      Not as Advertised  Product arrived labeled as Jumbo Salted Peanut...\n",
              "2  \"Delight\" says it all  This is a confection that has been around a fe...\n",
              "3         Cough Medicine  If you are looking for the secret ingredient i...\n",
              "4            Great taffy  Great taffy at a great price.  There was a wid..."
            ],
            "text/html": [
              "\n",
              "  <div id=\"df-a67a8864-59e4-4c3a-9943-e1070c429517\" class=\"colab-df-container\">\n",
              "    <div>\n",
              "<style scoped>\n",
              "    .dataframe tbody tr th:only-of-type {\n",
              "        vertical-align: middle;\n",
              "    }\n",
              "\n",
              "    .dataframe tbody tr th {\n",
              "        vertical-align: top;\n",
              "    }\n",
              "\n",
              "    .dataframe thead th {\n",
              "        text-align: right;\n",
              "    }\n",
              "</style>\n",
              "<table border=\"1\" class=\"dataframe\">\n",
              "  <thead>\n",
              "    <tr style=\"text-align: right;\">\n",
              "      <th></th>\n",
              "      <th>Summary</th>\n",
              "      <th>Text</th>\n",
              "    </tr>\n",
              "  </thead>\n",
              "  <tbody>\n",
              "    <tr>\n",
              "      <th>0</th>\n",
              "      <td>Good Quality Dog Food</td>\n",
              "      <td>I have bought several of the Vitality canned d...</td>\n",
              "    </tr>\n",
              "    <tr>\n",
              "      <th>1</th>\n",
              "      <td>Not as Advertised</td>\n",
              "      <td>Product arrived labeled as Jumbo Salted Peanut...</td>\n",
              "    </tr>\n",
              "    <tr>\n",
              "      <th>2</th>\n",
              "      <td>\"Delight\" says it all</td>\n",
              "      <td>This is a confection that has been around a fe...</td>\n",
              "    </tr>\n",
              "    <tr>\n",
              "      <th>3</th>\n",
              "      <td>Cough Medicine</td>\n",
              "      <td>If you are looking for the secret ingredient i...</td>\n",
              "    </tr>\n",
              "    <tr>\n",
              "      <th>4</th>\n",
              "      <td>Great taffy</td>\n",
              "      <td>Great taffy at a great price.  There was a wid...</td>\n",
              "    </tr>\n",
              "  </tbody>\n",
              "</table>\n",
              "</div>\n",
              "    <div class=\"colab-df-buttons\">\n",
              "\n",
              "  <div class=\"colab-df-container\">\n",
              "    <button class=\"colab-df-convert\" onclick=\"convertToInteractive('df-a67a8864-59e4-4c3a-9943-e1070c429517')\"\n",
              "            title=\"Convert this dataframe to an interactive table.\"\n",
              "            style=\"display:none;\">\n",
              "\n",
              "  <svg xmlns=\"http://www.w3.org/2000/svg\" height=\"24px\" viewBox=\"0 -960 960 960\">\n",
              "    <path d=\"M120-120v-720h720v720H120Zm60-500h600v-160H180v160Zm220 220h160v-160H400v160Zm0 220h160v-160H400v160ZM180-400h160v-160H180v160Zm440 0h160v-160H620v160ZM180-180h160v-160H180v160Zm440 0h160v-160H620v160Z\"/>\n",
              "  </svg>\n",
              "    </button>\n",
              "\n",
              "  <style>\n",
              "    .colab-df-container {\n",
              "      display:flex;\n",
              "      gap: 12px;\n",
              "    }\n",
              "\n",
              "    .colab-df-convert {\n",
              "      background-color: #E8F0FE;\n",
              "      border: none;\n",
              "      border-radius: 50%;\n",
              "      cursor: pointer;\n",
              "      display: none;\n",
              "      fill: #1967D2;\n",
              "      height: 32px;\n",
              "      padding: 0 0 0 0;\n",
              "      width: 32px;\n",
              "    }\n",
              "\n",
              "    .colab-df-convert:hover {\n",
              "      background-color: #E2EBFA;\n",
              "      box-shadow: 0px 1px 2px rgba(60, 64, 67, 0.3), 0px 1px 3px 1px rgba(60, 64, 67, 0.15);\n",
              "      fill: #174EA6;\n",
              "    }\n",
              "\n",
              "    .colab-df-buttons div {\n",
              "      margin-bottom: 4px;\n",
              "    }\n",
              "\n",
              "    [theme=dark] .colab-df-convert {\n",
              "      background-color: #3B4455;\n",
              "      fill: #D2E3FC;\n",
              "    }\n",
              "\n",
              "    [theme=dark] .colab-df-convert:hover {\n",
              "      background-color: #434B5C;\n",
              "      box-shadow: 0px 1px 3px 1px rgba(0, 0, 0, 0.15);\n",
              "      filter: drop-shadow(0px 1px 2px rgba(0, 0, 0, 0.3));\n",
              "      fill: #FFFFFF;\n",
              "    }\n",
              "  </style>\n",
              "\n",
              "    <script>\n",
              "      const buttonEl =\n",
              "        document.querySelector('#df-a67a8864-59e4-4c3a-9943-e1070c429517 button.colab-df-convert');\n",
              "      buttonEl.style.display =\n",
              "        google.colab.kernel.accessAllowed ? 'block' : 'none';\n",
              "\n",
              "      async function convertToInteractive(key) {\n",
              "        const element = document.querySelector('#df-a67a8864-59e4-4c3a-9943-e1070c429517');\n",
              "        const dataTable =\n",
              "          await google.colab.kernel.invokeFunction('convertToInteractive',\n",
              "                                                    [key], {});\n",
              "        if (!dataTable) return;\n",
              "\n",
              "        const docLinkHtml = 'Like what you see? Visit the ' +\n",
              "          '<a target=\"_blank\" href=https://colab.research.google.com/notebooks/data_table.ipynb>data table notebook</a>'\n",
              "          + ' to learn more about interactive tables.';\n",
              "        element.innerHTML = '';\n",
              "        dataTable['output_type'] = 'display_data';\n",
              "        await google.colab.output.renderOutput(dataTable, element);\n",
              "        const docLink = document.createElement('div');\n",
              "        docLink.innerHTML = docLinkHtml;\n",
              "        element.appendChild(docLink);\n",
              "      }\n",
              "    </script>\n",
              "  </div>\n",
              "\n",
              "\n",
              "<div id=\"df-d8ade821-e8d2-4688-a510-c62172618b40\">\n",
              "  <button class=\"colab-df-quickchart\" onclick=\"quickchart('df-d8ade821-e8d2-4688-a510-c62172618b40')\"\n",
              "            title=\"Suggest charts\"\n",
              "            style=\"display:none;\">\n",
              "\n",
              "<svg xmlns=\"http://www.w3.org/2000/svg\" height=\"24px\"viewBox=\"0 0 24 24\"\n",
              "     width=\"24px\">\n",
              "    <g>\n",
              "        <path d=\"M19 3H5c-1.1 0-2 .9-2 2v14c0 1.1.9 2 2 2h14c1.1 0 2-.9 2-2V5c0-1.1-.9-2-2-2zM9 17H7v-7h2v7zm4 0h-2V7h2v10zm4 0h-2v-4h2v4z\"/>\n",
              "    </g>\n",
              "</svg>\n",
              "  </button>\n",
              "\n",
              "<style>\n",
              "  .colab-df-quickchart {\n",
              "      --bg-color: #E8F0FE;\n",
              "      --fill-color: #1967D2;\n",
              "      --hover-bg-color: #E2EBFA;\n",
              "      --hover-fill-color: #174EA6;\n",
              "      --disabled-fill-color: #AAA;\n",
              "      --disabled-bg-color: #DDD;\n",
              "  }\n",
              "\n",
              "  [theme=dark] .colab-df-quickchart {\n",
              "      --bg-color: #3B4455;\n",
              "      --fill-color: #D2E3FC;\n",
              "      --hover-bg-color: #434B5C;\n",
              "      --hover-fill-color: #FFFFFF;\n",
              "      --disabled-bg-color: #3B4455;\n",
              "      --disabled-fill-color: #666;\n",
              "  }\n",
              "\n",
              "  .colab-df-quickchart {\n",
              "    background-color: var(--bg-color);\n",
              "    border: none;\n",
              "    border-radius: 50%;\n",
              "    cursor: pointer;\n",
              "    display: none;\n",
              "    fill: var(--fill-color);\n",
              "    height: 32px;\n",
              "    padding: 0;\n",
              "    width: 32px;\n",
              "  }\n",
              "\n",
              "  .colab-df-quickchart:hover {\n",
              "    background-color: var(--hover-bg-color);\n",
              "    box-shadow: 0 1px 2px rgba(60, 64, 67, 0.3), 0 1px 3px 1px rgba(60, 64, 67, 0.15);\n",
              "    fill: var(--button-hover-fill-color);\n",
              "  }\n",
              "\n",
              "  .colab-df-quickchart-complete:disabled,\n",
              "  .colab-df-quickchart-complete:disabled:hover {\n",
              "    background-color: var(--disabled-bg-color);\n",
              "    fill: var(--disabled-fill-color);\n",
              "    box-shadow: none;\n",
              "  }\n",
              "\n",
              "  .colab-df-spinner {\n",
              "    border: 2px solid var(--fill-color);\n",
              "    border-color: transparent;\n",
              "    border-bottom-color: var(--fill-color);\n",
              "    animation:\n",
              "      spin 1s steps(1) infinite;\n",
              "  }\n",
              "\n",
              "  @keyframes spin {\n",
              "    0% {\n",
              "      border-color: transparent;\n",
              "      border-bottom-color: var(--fill-color);\n",
              "      border-left-color: var(--fill-color);\n",
              "    }\n",
              "    20% {\n",
              "      border-color: transparent;\n",
              "      border-left-color: var(--fill-color);\n",
              "      border-top-color: var(--fill-color);\n",
              "    }\n",
              "    30% {\n",
              "      border-color: transparent;\n",
              "      border-left-color: var(--fill-color);\n",
              "      border-top-color: var(--fill-color);\n",
              "      border-right-color: var(--fill-color);\n",
              "    }\n",
              "    40% {\n",
              "      border-color: transparent;\n",
              "      border-right-color: var(--fill-color);\n",
              "      border-top-color: var(--fill-color);\n",
              "    }\n",
              "    60% {\n",
              "      border-color: transparent;\n",
              "      border-right-color: var(--fill-color);\n",
              "    }\n",
              "    80% {\n",
              "      border-color: transparent;\n",
              "      border-right-color: var(--fill-color);\n",
              "      border-bottom-color: var(--fill-color);\n",
              "    }\n",
              "    90% {\n",
              "      border-color: transparent;\n",
              "      border-bottom-color: var(--fill-color);\n",
              "    }\n",
              "  }\n",
              "</style>\n",
              "\n",
              "  <script>\n",
              "    async function quickchart(key) {\n",
              "      const quickchartButtonEl =\n",
              "        document.querySelector('#' + key + ' button');\n",
              "      quickchartButtonEl.disabled = true;  // To prevent multiple clicks.\n",
              "      quickchartButtonEl.classList.add('colab-df-spinner');\n",
              "      try {\n",
              "        const charts = await google.colab.kernel.invokeFunction(\n",
              "            'suggestCharts', [key], {});\n",
              "      } catch (error) {\n",
              "        console.error('Error during call to suggestCharts:', error);\n",
              "      }\n",
              "      quickchartButtonEl.classList.remove('colab-df-spinner');\n",
              "      quickchartButtonEl.classList.add('colab-df-quickchart-complete');\n",
              "    }\n",
              "    (() => {\n",
              "      let quickchartButtonEl =\n",
              "        document.querySelector('#df-d8ade821-e8d2-4688-a510-c62172618b40 button');\n",
              "      quickchartButtonEl.style.display =\n",
              "        google.colab.kernel.accessAllowed ? 'block' : 'none';\n",
              "    })();\n",
              "  </script>\n",
              "</div>\n",
              "\n",
              "    </div>\n",
              "  </div>\n"
            ],
            "application/vnd.google.colaboratory.intrinsic+json": {
              "type": "dataframe",
              "variable_name": "data"
            }
          },
          "metadata": {},
          "execution_count": 17
        }
      ]
    },
    {
      "cell_type": "markdown",
      "source": [
        "### **Analyze the data**"
      ],
      "metadata": {
        "id": "Sm9jCztxNcjU"
      }
    },
    {
      "cell_type": "code",
      "source": [
        "obj.analyze_data()"
      ],
      "metadata": {
        "id": "guVG3bU7NdFo",
        "colab": {
          "base_uri": "https://localhost:8080/"
        },
        "outputId": "94a5f28a-57a6-40aa-ea31-adf92a406793"
      },
      "execution_count": null,
      "outputs": [
        {
          "output_type": "stream",
          "name": "stdout",
          "text": [
            "_________________________\n",
            "Data Point 1\n",
            "Summary:\n",
            "Mushy\n",
            "Full Text:\n",
            "The flavors are good.  However, I do not see any differce between this and Oaker Oats brand - they are both mushy.\n",
            "_________________________\n",
            "Data Point 2\n",
            "Summary:\n",
            "Delicious product!\n",
            "Full Text:\n",
            "I can remember buying this candy as a kid and the quality hasn't dropped in all these years. Still a superb product you won't be disappointed with.\n",
            "_________________________\n",
            "Data Point 3\n",
            "Summary:\n",
            "Forget Molecular Gastronomy - this stuff rockes a coffee creamer!\n",
            "Full Text:\n",
            "I know the product title says Molecular Gastronomy, but don't let that scare you off.  I have been looking for this for a while now, not for food science, but for something more down to earth.  I use it to make my own coffee creamer.<br /><br />I have to have my coffee blonde and sweet - but the flavored creamers are full of the bad kinds of fat, and honestly, I hate to use manufactured \"food\" items.  I really don't think they are good for the body.  On the other hand, I hate using cold milk or cream, because I like HOT coffee.<br /><br />I stumbled across this on Amazon one day and got the idea of making my own creamer.  I also bought low-fat (non-instant) milk powder and regular milk powder. The non-instant lowfat milk is a little sweeter and tastes fresher than regular instant low-fat milk, but does not dissolve good in cold water - which is not a problem for hot coffee.  You will have to play with the ratios - I would not do just the heavy cream, it made the coffee too rich. Also, I think the powder is too expensive to just use on it's own. I like mixing 1/3 of each together.<br /><br />For flavoring, I bough cocoa bean powder, vanilla bean powder, and caster (superfine) sugar.  I mix up small batches along with spices like cinnamon and nutmeg to make my own flavored creamers.  If you wanted, you could use a fake sweetner powder instead.  I make up small amounts that I store in jelly canning jars. I also use my little food chopper/food processor to blend everything, so the sugar is not heavier and sinks to the bottom.  Let it settle for a bit before opening the top though.<br /><br />This stuff tastes WAY better than the storebought creamers and it is fun to experiment and come up with your own flavors.  I am going to try using some essential oils next and see if I can get a good chocolate/orange mix.<br /><br />All of the ingredients I mentioned are here online.  Take the time to experiment.  Maybe you don't use any low-fat milk. Or don't add any flavorings.  It is up to you.  Also, would make great housewarming/host(ess) gifts.<br /><br />I am sure other molecular people will be able to tell you more of what you can do with it, and I am sure I will experiment with it in cooking - but the main reason I bought it was to make my own creamer and it worked out great.\n",
            "_________________________\n",
            "Data Point 4\n",
            "Summary:\n",
            "Home delivered twizlers\n",
            "Full Text:\n",
            "Candy was delivered very fast and was purchased at a reasonable price.  I was home bound and unable to get to a store so this was perfect for me.\n",
            "_________________________\n",
            "Data Point 5\n",
            "Summary:\n",
            "Great food!\n",
            "Full Text:\n",
            "We have three dogs and all of them love this food!  We bought it specifically for one of our dogs who has food allergies and it works great for him, no more hot spots or tummy problems.<br />I LOVE that it ships right to our door with free shipping.\n"
          ]
        }
      ]
    },
    {
      "cell_type": "code",
      "source": [
        "contractions = {\n",
        "\"ain't\": \"am not\",\n",
        "\"aren't\": \"are not\",\n",
        "\"can't\": \"cannot\",\n",
        "\"can't've\": \"cannot have\",\n",
        "\"'cause\": \"because\",\n",
        "\"could've\": \"could have\",\n",
        "\"couldn't\": \"could not\",\n",
        "\"couldn't've\": \"could not have\",\n",
        "\"didn't\": \"did not\",\n",
        "\"doesn't\": \"does not\",\n",
        "\"don't\": \"do not\",\n",
        "\"hadn't\": \"had not\",\n",
        "\"hadn't've\": \"had not have\",\n",
        "\"hasn't\": \"has not\",\n",
        "\"haven't\": \"have not\",\n",
        "\"he'd\": \"he would\",\n",
        "\"he'd've\": \"he would have\",\n",
        "\"he'll\": \"he will\",\n",
        "\"he's\": \"he is\",\n",
        "\"how'd\": \"how did\",\n",
        "\"how'll\": \"how will\",\n",
        "\"how's\": \"how is\",\n",
        "\"i'd\": \"i would\",\n",
        "\"i'll\": \"i will\",\n",
        "\"i'm\": \"i am\",\n",
        "\"i've\": \"i have\",\n",
        "\"isn't\": \"is not\",\n",
        "\"it'd\": \"it would\",\n",
        "\"it'll\": \"it will\",\n",
        "\"it's\": \"it is\",\n",
        "\"let's\": \"let us\",\n",
        "\"ma'am\": \"madam\",\n",
        "\"mayn't\": \"may not\",\n",
        "\"might've\": \"might have\",\n",
        "\"mightn't\": \"might not\",\n",
        "\"must've\": \"must have\",\n",
        "\"mustn't\": \"must not\",\n",
        "\"needn't\": \"need not\",\n",
        "\"oughtn't\": \"ought not\",\n",
        "\"shan't\": \"shall not\",\n",
        "\"sha'n't\": \"shall not\",\n",
        "\"she'd\": \"she would\",\n",
        "\"she'll\": \"she will\",\n",
        "\"she's\": \"she is\",\n",
        "\"should've\": \"should have\",\n",
        "\"shouldn't\": \"should not\",\n",
        "\"that'd\": \"that would\",\n",
        "\"that's\": \"that is\",\n",
        "\"there'd\": \"there had\",\n",
        "\"there's\": \"there is\",\n",
        "\"they'd\": \"they would\",\n",
        "\"they'll\": \"they will\",\n",
        "\"they're\": \"they are\",\n",
        "\"they've\": \"they have\",\n",
        "\"wasn't\": \"was not\",\n",
        "\"we'd\": \"we would\",\n",
        "\"we'll\": \"we will\",\n",
        "\"we're\": \"we are\",\n",
        "\"we've\": \"we have\",\n",
        "\"weren't\": \"were not\",\n",
        "\"what'll\": \"what will\",\n",
        "\"what're\": \"what are\",\n",
        "\"what's\": \"what is\",\n",
        "\"what've\": \"what have\",\n",
        "\"where'd\": \"where did\",\n",
        "\"where's\": \"where is\",\n",
        "\"who'll\": \"who will\",\n",
        "\"who's\": \"who is\",\n",
        "\"won't\": \"will not\",\n",
        "\"wouldn't\": \"would not\",\n",
        "\"you'd\": \"you would\",\n",
        "\"you'll\": \"you will\",\n",
        "\"you're\": \"you are\"\n",
        "}"
      ],
      "metadata": {
        "id": "a2X7lA1KNu39"
      },
      "execution_count": null,
      "outputs": []
    },
    {
      "cell_type": "code",
      "source": [
        "class Data_cleaning:\n",
        "    def __init__(self):\n",
        "        self.clean_summaries = []\n",
        "        self.clean_texts = []\n",
        "\n",
        "    def clean_text(self, text, remove_stopwords = False):\n",
        "        \"\"\"\n",
        "        Defines a series of cleaning operations\n",
        "        \"\"\"\n",
        "        text = text.lower()\n",
        "\n",
        "        if True:\n",
        "            text = text.split()\n",
        "            new_text = []\n",
        "            for word in text:\n",
        "                if word in contractions:\n",
        "                    new_text.append(contractions[word])\n",
        "                else:\n",
        "                    new_text.append(word)\n",
        "            text = \" \".join(new_text)\n",
        "\n",
        "        text = re.sub(r'https?:\\/\\/.*[\\r\\n]*', '', text, flags=re.MULTILINE)\n",
        "        text = re.sub(r'\\<a href', ' ', text)\n",
        "        text = re.sub(r'&amp;', '', text)\n",
        "        text = re.sub(r'[_\"\\-;%()|+&=*%.,!?:#$@\\[\\]/]', ' ', text)\n",
        "        text = re.sub(r'<br />', ' ', text)\n",
        "        text = re.sub(r'<br >', ' ', text)\n",
        "        text = re.sub(r'<br  >', ' ', text)\n",
        "        text = re.sub(r'\\'', ' ', text)\n",
        "\n",
        "        # Optionally, removing stop words\n",
        "        if remove_stopwords:\n",
        "            text = text.split()\n",
        "            stops = set(stopwords.words(\"english\"))\n",
        "            text = [w for w in text if not w in stops]\n",
        "            text = \" \".join(text)\n",
        "\n",
        "        return text\n",
        "\n",
        "    def clean(self, data):\n",
        "        \"\"\"\n",
        "        Applies the clean_text() function to the entire dataset\n",
        "        \"\"\"\n",
        "        for summary in data.Summary:\n",
        "            self.clean_summaries.append(self.clean_text(summary))\n",
        "\n",
        "        print(\"Summaries are complete\")\n",
        "\n",
        "        for text in data.Text:\n",
        "            self.clean_texts.append(self.clean_text(text))\n",
        "\n",
        "        print(\"Texts are complete\")\n",
        "\n",
        "        return self.clean_summaries, self.clean_texts"
      ],
      "metadata": {
        "id": "HkWnMf5eNzwP"
      },
      "execution_count": null,
      "outputs": []
    },
    {
      "cell_type": "code",
      "source": [
        "clean_obj = Data_cleaning()\n",
        "clean_summaries, clean_texts = clean_obj.clean(data)"
      ],
      "metadata": {
        "id": "8Ca2hsnXN5Wz",
        "colab": {
          "base_uri": "https://localhost:8080/"
        },
        "outputId": "99ae0dc7-0e9c-4693-d6b9-fa30bfc38eaa"
      },
      "execution_count": null,
      "outputs": [
        {
          "output_type": "stream",
          "name": "stdout",
          "text": [
            "Summaries are complete\n"
          ]
        }
      ]
    },
    {
      "cell_type": "code",
      "source": [
        "np.random.seed(1)\n",
        "\n",
        "for sr_no, i in enumerate(np.random.randint(10, 100, size = 5)):\n",
        "    print(\"_________________________\")\n",
        "    print(\"Data Point #{0}\".format(sr_no + 1))\n",
        "    print(\"Summary: \")\n",
        "    print(clean_summaries[i])\n",
        "    print(\"Full Text: \")\n",
        "    print(clean_texts[i])"
      ],
      "metadata": {
        "id": "UxbBr0SqN6SJ"
      },
      "execution_count": null,
      "outputs": []
    }
  ]
}